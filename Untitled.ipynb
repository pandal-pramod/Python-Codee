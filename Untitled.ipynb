{
 "cells": [
  {
   "cell_type": "code",
   "execution_count": 10,
   "id": "5edf5931-c2c8-4d8a-9c82-7acc05c9f230",
   "metadata": {},
   "outputs": [
    {
     "name": "stdin",
     "output_type": "stream",
     "text": [
      "enter your name: panda\n",
      "enter your age:  20\n"
     ]
    },
    {
     "name": "stdout",
     "output_type": "stream",
     "text": [
      "panda\n",
      "you are elegible\n"
     ]
    }
   ],
   "source": [
    "Name=input(\"enter your name:\")\n",
    "age=int(input(\"enter your age: \"))\n",
    "if age>=18:\n",
    "      print(Name)\n",
    "      print(\"you are elegible\")\n",
    "else:\n",
    "     print(Name)\n",
    "     print(\"you are not eligible\")\n"
   ]
  },
  {
   "cell_type": "code",
   "execution_count": 16,
   "id": "bc61a61b-2d3a-4505-af69-200ede972a16",
   "metadata": {},
   "outputs": [
    {
     "name": "stdin",
     "output_type": "stream",
     "text": [
      "enter the number: 5\n",
      "enter the another number: 45\n"
     ]
    },
    {
     "name": "stdout",
     "output_type": "stream",
     "text": [
      "num2 is greater number\n"
     ]
    }
   ],
   "source": [
    "num1=int(input(\"enter the number:\"))\n",
    "num2=int(input(\"enter the another number:\"))\n",
    "if num1>num2:\n",
    "    print(\"num1 is greater number\")\n",
    "else:\n",
    "    print(\"num2 is greater number\")\n",
    "    "
   ]
  },
  {
   "cell_type": "code",
   "execution_count": 17,
   "id": "5bf30133-eed1-4b88-9300-ffdfbf75b53c",
   "metadata": {},
   "outputs": [
    {
     "name": "stdin",
     "output_type": "stream",
     "text": [
      " 2\n",
      " 4\n",
      " 5\n"
     ]
    },
    {
     "name": "stdout",
     "output_type": "stream",
     "text": [
      "c is largest\n"
     ]
    }
   ],
   "source": [
    "a=int(input())\n",
    "b=int(input())\n",
    "c=int(input())\n",
    "if a>b:\n",
    "    if a>c:\n",
    "        print(\"a is largest\")\n",
    "    else:\n",
    "        print(\"c is largest\")\n",
    "else:\n",
    "    if b>c:\n",
    "        print(\"b is largest\")\n",
    "    else:\n",
    "        print(\"c is largest\")\n",
    "        \n",
    "            \n",
    "            "
   ]
  },
  {
   "cell_type": "code",
   "execution_count": 25,
   "id": "39b8b7d2-5be2-4550-ad9a-9135e45dd808",
   "metadata": {},
   "outputs": [
    {
     "name": "stdin",
     "output_type": "stream",
     "text": [
      "nter the marks obtained 99\n"
     ]
    },
    {
     "name": "stdout",
     "output_type": "stream",
     "text": [
      "grade=A+\n"
     ]
    }
   ],
   "source": [
    "marks=int(input(\"nter the marks obtained\"))\n",
    "if marks>90 and marks<=100:\n",
    "          print(\"grade=A+\")\n",
    "\n",
    "else:\n",
    "              if marks>70 and marks<80:\n",
    "                 print(\"grade=A\")\n",
    "              else:\n",
    "                 if marks>60 and marks<70:\n",
    "                    print(\"grade=B+\")\n",
    "                 else:\n",
    "                     if marks>50 and marks<60:\n",
    "                        print(\"grade=c\")\n",
    "                     else:\n",
    "                         if marks>40 and marks<50:\n",
    "                             print(\"grade=D\")\n",
    "                         else:\n",
    "                             if marks<35:\n",
    "                                 print(\"grade=E\")\n",
    "                                 \n",
    "                             "
   ]
  },
  {
   "cell_type": "code",
   "execution_count": 2,
   "id": "aa93e6e8-da6a-48dd-8840-8dbdb3527459",
   "metadata": {},
   "outputs": [
    {
     "name": "stdin",
     "output_type": "stream",
     "text": [
      "enter the day number 0\n"
     ]
    },
    {
     "name": "stdout",
     "output_type": "stream",
     "text": [
      "invalid number\n"
     ]
    }
   ],
   "source": [
    "day=int(input(\"enter the day number\"))\n",
    "match day:\n",
    " case 1:print(\"sunday\")\n",
    " case 2:print(\"monday\")\n",
    " case 3:print(\"tuesday\")\n",
    " case 4:print(\"wednesday\")\n",
    " case 5:print(\"thursday\")\n",
    " case 6:print(\"friday\")\n",
    " case 7:print(\"saturday\")\n",
    " case _ if day==10:\n",
    "       print(\"ten\")\n",
    " case _ if day>=13 and day<=10:\n",
    "       print(\"teens\")\n",
    " case _:print(\"invalid number\")\n"
   ]
  },
  {
   "cell_type": "code",
   "execution_count": 3,
   "id": "1f464cd9-cb22-4012-b81a-7b0338547861",
   "metadata": {},
   "outputs": [
    {
     "name": "stdout",
     "output_type": "stream",
     "text": [
      "*\n",
      "*\n",
      "*\n",
      "*\n",
      "*\n",
      "*\n",
      "*\n",
      "*\n",
      "*\n",
      "*\n",
      "*\n",
      "*\n",
      "*\n",
      "*\n",
      "*\n",
      "*\n",
      "*\n",
      "*\n",
      "*\n",
      "*\n",
      "*\n",
      "*\n",
      "*\n",
      "*\n",
      "*\n",
      "*\n",
      "*\n",
      "*\n",
      "*\n",
      "*\n",
      "*\n",
      "*\n",
      "*\n",
      "*\n",
      "*\n",
      "*\n",
      "*\n",
      "*\n",
      "*\n",
      "*\n",
      "*\n",
      "*\n",
      "*\n",
      "*\n",
      "*\n",
      "*\n",
      "*\n",
      "*\n",
      "*\n",
      "*\n",
      "*\n",
      "*\n",
      "*\n",
      "*\n",
      "*\n"
     ]
    }
   ],
   "source": [
    "for y in range (0,10):\n",
    "    for x in range(0,y+1):\n",
    "        print(\"*\",end=\"\")\n",
    "        print()\n",
    "        "
   ]
  },
  {
   "cell_type": "code",
   "execution_count": 14,
   "id": "b9ade3a9-bc3a-436c-bc25-a3291fff3492",
   "metadata": {},
   "outputs": [
    {
     "name": "stdin",
     "output_type": "stream",
     "text": [
      "enter the length: 7\n"
     ]
    },
    {
     "name": "stdout",
     "output_type": "stream",
     "text": [
      "0 1 1 2 3 5 8 "
     ]
    }
   ],
   "source": [
    "a=0\n",
    "b=1\n",
    "n =int(input(\"enter the length:\"))\n",
    "print(a ,b ,end=\" \")\n",
    "for i in range (0,n-2):\n",
    "    c=a+b\n",
    "    print(c ,end=\" \")\n",
    "    a=b\n",
    "    b=c"
   ]
  },
  {
   "cell_type": "code",
   "execution_count": null,
   "id": "c77161ef-1233-434a-a622-1ec6f0f4bd45",
   "metadata": {},
   "outputs": [],
   "source": [
    "pop to pull out elemnt of the list \n",
    "sort use to sort the list"
   ]
  },
  {
   "cell_type": "code",
   "execution_count": 4,
   "id": "641379dd-50b4-473c-ae9c-6a9fe7617517",
   "metadata": {},
   "outputs": [
    {
     "name": "stdout",
     "output_type": "stream",
     "text": [
      "[1, 2, 3, 4]\n",
      "4\n",
      "[1, 2, 3]\n",
      "[1, 2, 3, 10, 3, 3, 10]\n",
      "2\n",
      "1\n",
      "3\n"
     ]
    }
   ],
   "source": [
    "a=[1,2,3,4]\n",
    "b=a.copy()\n",
    "print(b)\n",
    "c=b.pop(3)\n",
    "print(c)\n",
    "print(b)\n",
    "b.append(10)\n",
    "b.append(3)\n",
    "b.append(3)\n",
    "b.append(10)\n",
    "print(b)\n",
    "print (b.index(3))\n",
    "print (b.index(2))\n",
    "print (b.index(10))"
   ]
  },
  {
   "cell_type": "code",
   "execution_count": 11,
   "id": "d8d5b802-4804-47ab-b803-a3c08e426121",
   "metadata": {},
   "outputs": [
    {
     "name": "stdin",
     "output_type": "stream",
     "text": [
      "enter the element of the list:  1 2 3 4 5 6 7\n"
     ]
    },
    {
     "name": "stdout",
     "output_type": "stream",
     "text": [
      "[1, 2, 3, 4, 5, 6, 7]\n"
     ]
    }
   ],
   "source": [
    "L = [int(item) for item in (input(\"enter the element of the list: \").split())]\n",
    "print (L)"
   ]
  },
  {
   "cell_type": "code",
   "execution_count": 19,
   "id": "35e43dd5-795d-49e6-b010-282339bc01ea",
   "metadata": {},
   "outputs": [
    {
     "name": "stdout",
     "output_type": "stream",
     "text": [
      "[1, 2, 3, 10, 3, 'vardhan', 10]\n",
      "(1, 2, 3, 10, 3, 'vardhan', 10)\n",
      "vardhan\n"
     ]
    }
   ],
   "source": [
    "print(b)\n",
    "b[5]=\"vardhan\"\n",
    "\n",
    "a=tuple(b)\n",
    "print(a)\n",
    "print(a[-2])\n"
   ]
  },
  {
   "cell_type": "code",
   "execution_count": 22,
   "id": "94a33ddb-2d2e-4411-9754-8caca4d9c757",
   "metadata": {},
   "outputs": [
    {
     "name": "stdout",
     "output_type": "stream",
     "text": [
      "9\n",
      "8\n",
      "7\n",
      "6\n",
      "5\n",
      "4\n",
      "3\n",
      "2\n",
      "1\n"
     ]
    }
   ],
   "source": [
    "a=(1,2,3,4,5,6,7,8,9)\n",
    "for x in range (-1,-1*(len(a)+1),-1):\n",
    "    print(a[x])"
   ]
  },
  {
   "cell_type": "code",
   "execution_count": 23,
   "id": "f5fcc908-7d44-4f8c-81f2-24e64f05466a",
   "metadata": {},
   "outputs": [
    {
     "name": "stdout",
     "output_type": "stream",
     "text": [
      "9\n",
      "8\n",
      "7\n",
      "6\n",
      "5\n",
      "4\n",
      "3\n",
      "2\n",
      "1\n"
     ]
    }
   ],
   "source": [
    "a=(1,2,3,4,5,6,7,8,9)\n",
    "for x in range (0,len(a)):\n",
    "    print(a[-1*(x+1)])"
   ]
  },
  {
   "cell_type": "code",
   "execution_count": null,
   "id": "dc7476fa-6b9e-4e31-b406-85f5e1adb99b",
   "metadata": {},
   "outputs": [],
   "source": [
    "Dictionary\n",
    "\n",
    "key and values\n",
    "\n",
    "key values Pair\n",
    "\n",
    "D="
   ]
  },
  {
   "cell_type": "code",
   "execution_count": null,
   "id": "34e70857-1882-40b2-9892-4b1e50c24b8e",
   "metadata": {},
   "outputs": [],
   "source": [
    "wap to take key and value as input and add it into the dictionary if key is not present in \n",
    "dictionary other wise print key already exist and print its value "
   ]
  },
  {
   "cell_type": "code",
   "execution_count": 2,
   "id": "7c73e964-0799-4dc3-a8d0-cdbed1ccedf3",
   "metadata": {},
   "outputs": [
    {
     "name": "stdin",
     "output_type": "stream",
     "text": [
      "enter the key: e\n",
      "enter the value: 4\n"
     ]
    },
    {
     "name": "stdout",
     "output_type": "stream",
     "text": [
      "update dictionary: {'e': '4'}\n"
     ]
    }
   ],
   "source": [
    "D={}\n",
    "key=input(\"enter the key:\")\n",
    "value=input(\"enter the value:\")\n",
    "if key in D:\n",
    "   print(\"key already exists!value:\",D[key])\n",
    "else:\n",
    "    D[key]=value\n",
    "    print(\"update dictionary:\",D)\n"
   ]
  },
  {
   "cell_type": "code",
   "execution_count": 17,
   "id": "90cd22e7-d70b-4456-bc81-99f443bb290c",
   "metadata": {},
   "outputs": [
    {
     "name": "stdin",
     "output_type": "stream",
     "text": [
      "enter the index: 5\n"
     ]
    },
    {
     "name": "stdout",
     "output_type": "stream",
     "text": [
      "6\n"
     ]
    }
   ],
   "source": [
    "a=[1,2,3,4,5,6,7,8,9]\n",
    "i=int(input(\"enter the index:\"))\n",
    "try:\n",
    "    print(a[i])\n",
    "except:\n",
    "    print(\"there is no index\")\n",
    "\n"
   ]
  },
  {
   "cell_type": "code",
   "execution_count": 18,
   "id": "dfb76c8d-eb9c-4817-be15-98cc255006c7",
   "metadata": {},
   "outputs": [
    {
     "ename": "SyntaxError",
     "evalue": "invalid syntax (3313189079.py, line 6)",
     "output_type": "error",
     "traceback": [
      "\u001b[1;36m  Cell \u001b[1;32mIn[18], line 6\u001b[1;36m\u001b[0m\n\u001b[1;33m    except Value error:\u001b[0m\n\u001b[1;37m                 ^\u001b[0m\n\u001b[1;31mSyntaxError\u001b[0m\u001b[1;31m:\u001b[0m invalid syntax\n"
     ]
    }
   ],
   "source": [
    "try:\n",
    "    a=input()\n",
    "    b=input()\n",
    "    c=int(a)/int(b)\n",
    "    x=\"hello\"/3\n",
    "except Value error:\n",
    "      print(\"Value unable to convert\")\n",
    "except ZeroDivisonError:\n",
    "    print(\"cant divide by zero\")\n",
    "    except:\n",
    "    print(\"some unknown error found \")\n",
    "else:\n",
    "     print(\"no error\")\n",
    "finally:\n",
    "     print(\"code execution done\")\n"
   ]
  },
  {
   "cell_type": "markdown",
   "id": "1f29872d-cd02-48ee-a4cf-0d16ac803937",
   "metadata": {},
   "source": [
    "day 4\n"
   ]
  },
  {
   "cell_type": "code",
   "execution_count": null,
   "id": "c5ff9d76-0296-4888-9e19-ae34cdc46524",
   "metadata": {},
   "outputs": [],
   "source": []
  }
 ],
 "metadata": {
  "kernelspec": {
   "display_name": "Python 3 (ipykernel)",
   "language": "python",
   "name": "python3"
  },
  "language_info": {
   "codemirror_mode": {
    "name": "ipython",
    "version": 3
   },
   "file_extension": ".py",
   "mimetype": "text/x-python",
   "name": "python",
   "nbconvert_exporter": "python",
   "pygments_lexer": "ipython3",
   "version": "3.12.3"
  }
 },
 "nbformat": 4,
 "nbformat_minor": 5
}
